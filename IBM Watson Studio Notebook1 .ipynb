{
    "cells": [
        {
            "cell_type": "code",
            "execution_count": 1,
            "metadata": {},
            "outputs": [
                {
                    "data": {
                        "text/html": "<div>\n<style scoped>\n    .dataframe tbody tr th:only-of-type {\n        vertical-align: middle;\n    }\n\n    .dataframe tbody tr th {\n        vertical-align: top;\n    }\n\n    .dataframe thead th {\n        text-align: right;\n    }\n</style>\n<table border=\"1\" class=\"dataframe\">\n  <thead>\n    <tr style=\"text-align: right;\">\n      <th></th>\n      <th>publishedsince</th>\n      <th>carmodel</th>\n      <th>price</th>\n      <th>ann\u00e9e</th>\n      <th>miseencirculation</th>\n      <th>contr\u00f4letechnique</th>\n      <th>kilom\u00e9tragecompteur</th>\n      <th>\u00e9nergie</th>\n      <th>bo\u00eetedevitesse</th>\n      <th>couleurext\u00e9rieure</th>\n      <th>...</th>\n      <th>conso.batterie</th>\n      <th>couleurint\u00e9rieure</th>\n      <th>puissancemoteur</th>\n      <th>prime\u00e0laconversion</th>\n      <th>garantieconstructeur</th>\n      <th>provenance</th>\n      <th>prixinclutlabatterie</th>\n      <th>voltagebatterie</th>\n      <th>intensit\u00e9batterie</th>\n      <th>prixinclutlabatterie.1</th>\n    </tr>\n  </thead>\n  <tbody>\n    <tr>\n      <th>0</th>\n      <td>2 jours</td>\n      <td>\\n    RENAULT TWINGO 3\\n</td>\n      <td>\\n          11 080\u00a0\u20ac\\n</td>\n      <td>2020.0</td>\n      <td>17/07/2020</td>\n      <td>non requis</td>\n      <td>27 297 Km</td>\n      <td>Essence</td>\n      <td>m\u00e9canique</td>\n      <td>gris</td>\n      <td>...</td>\n      <td>NaN</td>\n      <td>NaN</td>\n      <td>NaN</td>\n      <td>NaN</td>\n      <td>NaN</td>\n      <td>NaN</td>\n      <td>NaN</td>\n      <td>NaN</td>\n      <td>NaN</td>\n      <td>NaN</td>\n    </tr>\n    <tr>\n      <th>1</th>\n      <td>5 jours</td>\n      <td>\\n    BMW SERIE 4 F36 GRAN COUPE\\n</td>\n      <td>\\n          50 690\u00a0\u20ac\\n</td>\n      <td>2019.0</td>\n      <td>27/04/2019</td>\n      <td>non requis</td>\n      <td>59 778 Km</td>\n      <td>Diesel</td>\n      <td>automatique</td>\n      <td>Saphirschwarz</td>\n      <td>...</td>\n      <td>NaN</td>\n      <td>NaN</td>\n      <td>NaN</td>\n      <td>NaN</td>\n      <td>NaN</td>\n      <td>NaN</td>\n      <td>NaN</td>\n      <td>NaN</td>\n      <td>NaN</td>\n      <td>NaN</td>\n    </tr>\n    <tr>\n      <th>2</th>\n      <td>19 jours</td>\n      <td>\\n    BMW SERIE 2 F45 ACTIVE TOURER\\n</td>\n      <td>\\n          19 740\u00a0\u20ac\\n</td>\n      <td>2017.0</td>\n      <td>14/05/2017</td>\n      <td>requis</td>\n      <td>128 835 Km</td>\n      <td>Hybride essence \u00e9lectrique</td>\n      <td>automatique</td>\n      <td>gris metal</td>\n      <td>...</td>\n      <td>11 kWh/100km</td>\n      <td>cuir noir</td>\n      <td>165 kW</td>\n      <td></td>\n      <td>NaN</td>\n      <td>NaN</td>\n      <td>NaN</td>\n      <td>NaN</td>\n      <td>NaN</td>\n      <td>NaN</td>\n    </tr>\n    <tr>\n      <th>3</th>\n      <td>8 jours</td>\n      <td>\\n    RENAULT TRAFIC 2 MINIBUS\\n</td>\n      <td>\\n          13 890\u00a0\u20ac\\n</td>\n      <td>2007.0</td>\n      <td>11/05/2007</td>\n      <td>requis</td>\n      <td>225 334 Km</td>\n      <td>Diesel</td>\n      <td>m\u00e9canique</td>\n      <td>GRIS F</td>\n      <td>...</td>\n      <td>NaN</td>\n      <td>GRIS</td>\n      <td>NaN</td>\n      <td>NaN</td>\n      <td>NaN</td>\n      <td>NaN</td>\n      <td>NaN</td>\n      <td>NaN</td>\n      <td>NaN</td>\n      <td>NaN</td>\n    </tr>\n    <tr>\n      <th>4</th>\n      <td>60 jours</td>\n      <td>\\n    CITROEN C3 (3E GENERATION)\\n</td>\n      <td>\\n          16 780\u00a0\u20ac\\n</td>\n      <td>2020.0</td>\n      <td>20/01/2021</td>\n      <td>non requis</td>\n      <td>14 218 Km</td>\n      <td>Essence</td>\n      <td>m\u00e9canique</td>\n      <td>gris fonc\u00e9</td>\n      <td>...</td>\n      <td>NaN</td>\n      <td>NaN</td>\n      <td>NaN</td>\n      <td></td>\n      <td>NaN</td>\n      <td>NaN</td>\n      <td>NaN</td>\n      <td>NaN</td>\n      <td>NaN</td>\n      <td>NaN</td>\n    </tr>\n  </tbody>\n</table>\n<p>5 rows \u00d7 40 columns</p>\n</div>",
                        "text/plain": "  publishedsince                               carmodel  \\\n0        2 jours               \\n    RENAULT TWINGO 3\\n   \n1        5 jours     \\n    BMW SERIE 4 F36 GRAN COUPE\\n   \n2       19 jours  \\n    BMW SERIE 2 F45 ACTIVE TOURER\\n   \n3        8 jours       \\n    RENAULT TRAFIC 2 MINIBUS\\n   \n4       60 jours     \\n    CITROEN C3 (3E GENERATION)\\n   \n\n                            price   ann\u00e9e miseencirculation contr\u00f4letechnique  \\\n0  \\n          11 080\u00a0\u20ac\\n          2020.0        17/07/2020        non requis   \n1  \\n          50 690\u00a0\u20ac\\n          2019.0        27/04/2019        non requis   \n2  \\n          19 740\u00a0\u20ac\\n          2017.0        14/05/2017            requis   \n3  \\n          13 890\u00a0\u20ac\\n          2007.0        11/05/2007            requis   \n4  \\n          16 780\u00a0\u20ac\\n          2020.0        20/01/2021        non requis   \n\n  kilom\u00e9tragecompteur                      \u00e9nergie bo\u00eetedevitesse  \\\n0           27 297 Km                      Essence      m\u00e9canique   \n1           59 778 Km                       Diesel    automatique   \n2          128 835 Km   Hybride essence \u00e9lectrique    automatique   \n3          225 334 Km                       Diesel      m\u00e9canique   \n4           14 218 Km                      Essence      m\u00e9canique   \n\n  couleurext\u00e9rieure  ...  conso.batterie  couleurint\u00e9rieure puissancemoteur  \\\n0              gris  ...             NaN                NaN             NaN   \n1     Saphirschwarz  ...             NaN                NaN             NaN   \n2        gris metal  ...    11 kWh/100km          cuir noir          165 kW   \n3            GRIS F  ...             NaN               GRIS             NaN   \n4        gris fonc\u00e9  ...             NaN                NaN             NaN   \n\n  prime\u00e0laconversion  garantieconstructeur provenance prixinclutlabatterie  \\\n0                NaN                   NaN        NaN                  NaN   \n1                NaN                   NaN        NaN                  NaN   \n2                                      NaN        NaN                  NaN   \n3                NaN                   NaN        NaN                  NaN   \n4                                      NaN        NaN                  NaN   \n\n   voltagebatterie intensit\u00e9batterie prixinclutlabatterie.1  \n0              NaN               NaN                    NaN  \n1              NaN               NaN                    NaN  \n2              NaN               NaN                    NaN  \n3              NaN               NaN                    NaN  \n4              NaN               NaN                    NaN  \n\n[5 rows x 40 columns]"
                    },
                    "execution_count": 1,
                    "metadata": {},
                    "output_type": "execute_result"
                }
            ],
            "source": "# The code was removed by Watson Studio for sharing."
        },
        {
            "cell_type": "code",
            "execution_count": 1,
            "metadata": {},
            "outputs": [
                {
                    "name": "stdout",
                    "output_type": "stream",
                    "text": "2\n3\n4\n5\n6\n7\n8\n9\n"
                }
            ],
            "source": "for i in range (2,10):\n    print(i)"
        },
        {
            "cell_type": "markdown",
            "metadata": {},
            "source": "__Hello World__"
        },
        {
            "cell_type": "markdown",
            "metadata": {},
            "source": "* Bullet\n    * Bullet2"
        },
        {
            "cell_type": "code",
            "execution_count": null,
            "metadata": {},
            "outputs": [],
            "source": ""
        }
    ],
    "metadata": {
        "kernelspec": {
            "display_name": "Python 3.8",
            "language": "python",
            "name": "python3"
        },
        "language_info": {
            "codemirror_mode": {
                "name": "ipython",
                "version": 3
            },
            "file_extension": ".py",
            "mimetype": "text/x-python",
            "name": "python",
            "nbconvert_exporter": "python",
            "pygments_lexer": "ipython3",
            "version": "3.8.12"
        }
    },
    "nbformat": 4,
    "nbformat_minor": 1
}